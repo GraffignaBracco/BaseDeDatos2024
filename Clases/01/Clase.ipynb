{
 "cells": [
  {
   "cell_type": "code",
   "execution_count": 1,
   "metadata": {},
   "outputs": [],
   "source": [
    "import pandas as pd\n",
    "import requests\n",
    "import json"
   ]
  },
  {
   "cell_type": "code",
   "execution_count": 2,
   "metadata": {},
   "outputs": [],
   "source": [
    "client_id='46ca3fbfd5984ba8aa6a39cc165e43d1'\n",
    "\n",
    "client_secret='621C7e8e3bdf41bC99095408AD1878F4'"
   ]
  },
  {
   "cell_type": "code",
   "execution_count": 3,
   "metadata": {},
   "outputs": [],
   "source": [
    "pcolectivos_feed_gtfs = \"https://apitransporte.buenosaires.gob.ar/colectivos/feed-gtfs\"\n",
    "#pcolectivos_metadata = \"https://apitransporte.buenosaires.gob.ar/colectivos/feed-gtfs/metadata\"\n",
    "pcolectivos_vehicleposition = \"https://apitransporte.buenosaires.gob.ar/colectivos/vehiclePositions\"\n",
    "pcolectivos_vehiclepositionsimple = \"https://apitransporte.buenosaires.gob.ar/colectivos/vehiclePositionsSimple\"\n",
    "pcolectivos_tripUpdates = \"https://apitransporte.buenosaires.gob.ar/colectivos/tripUpdates\"\n",
    "#pcolectivos_forecastgtfs = \"https://apitransporte.buenosaires.gob.ar/colectivos/forecastGTFS\"\n",
    "pcolectivos_serviceAlerts = \"https://apitransporte.buenosaires.gob.ar/colectivos/serviceAlerts\""
   ]
  },
  {
   "cell_type": "code",
   "execution_count": 4,
   "metadata": {},
   "outputs": [],
   "source": [
    "params = {'client_id': client_id,\n",
    "          'client_secret': client_secret,\n",
    "          }"
   ]
  },
  {
   "cell_type": "code",
   "execution_count": 5,
   "metadata": {},
   "outputs": [],
   "source": [
    "response = requests.get(pcolectivos_feed_gtfs, params=params)"
   ]
  },
  {
   "cell_type": "code",
   "execution_count": 8,
   "metadata": {},
   "outputs": [],
   "source": [
    "feed_gtfs_binary = response.content"
   ]
  },
  {
   "cell_type": "code",
   "execution_count": 12,
   "metadata": {},
   "outputs": [
    {
     "data": {
      "text/plain": [
       "bytes"
      ]
     },
     "execution_count": 12,
     "metadata": {},
     "output_type": "execute_result"
    }
   ],
   "source": [
    "type(feed_gtfs_binary)"
   ]
  },
  {
   "cell_type": "code",
   "execution_count": null,
   "metadata": {},
   "outputs": [],
   "source": [
    "# Abrir el archivo en modo de escritura de bytes\n",
    "with open('../Data/feed_gtfs.bin', 'wb') as archivo:\n",
    "    # Escribir los datos en el archivo\n",
    "    archivo.write(response.content)"
   ]
  },
  {
   "cell_type": "code",
   "execution_count": 5,
   "metadata": {},
   "outputs": [],
   "source": [
    "with open('../../Data/feed_gtfs.bin', 'rb') as archivo:\n",
    "    # Escribir los datos en el archivo\n",
    "    feed_gtfs_binary = archivo.read()\n"
   ]
  },
  {
   "cell_type": "code",
   "execution_count": 6,
   "metadata": {},
   "outputs": [],
   "source": [
    "import zipfile, io\n",
    "feed_gtfs = zipfile.ZipFile(io.BytesIO(feed_gtfs_binary))"
   ]
  },
  {
   "cell_type": "code",
   "execution_count": 11,
   "metadata": {},
   "outputs": [
    {
     "data": {
      "text/plain": [
       "zipfile.ZipFile"
      ]
     },
     "execution_count": 11,
     "metadata": {},
     "output_type": "execute_result"
    }
   ],
   "source": [
    "type(feed_gtfs)"
   ]
  },
  {
   "cell_type": "code",
   "execution_count": 15,
   "metadata": {},
   "outputs": [
    {
     "data": {
      "text/plain": [
       "['agency.txt',\n",
       " 'calendar_dates.txt',\n",
       " 'routes.txt',\n",
       " 'shapes.txt',\n",
       " 'stops.txt',\n",
       " 'stop_times.txt',\n",
       " 'trips.txt']"
      ]
     },
     "execution_count": 15,
     "metadata": {},
     "output_type": "execute_result"
    }
   ],
   "source": [
    "feed_gtfs.namelist()"
   ]
  },
  {
   "cell_type": "code",
   "execution_count": 16,
   "metadata": {},
   "outputs": [],
   "source": [
    "feed_gtfs.extractall('..././Data/feed_gtfs')"
   ]
  },
  {
   "cell_type": "markdown",
   "metadata": {},
   "source": [
    "# 0. Descripción GTFS Static"
   ]
  },
  {
   "cell_type": "markdown",
   "metadata": {},
   "source": [
    "## 1. Agency"
   ]
  },
  {
   "cell_type": "code",
   "execution_count": 29,
   "metadata": {},
   "outputs": [
    {
     "data": {
      "text/html": [
       "<div>\n",
       "<style scoped>\n",
       "    .dataframe tbody tr th:only-of-type {\n",
       "        vertical-align: middle;\n",
       "    }\n",
       "\n",
       "    .dataframe tbody tr th {\n",
       "        vertical-align: top;\n",
       "    }\n",
       "\n",
       "    .dataframe thead th {\n",
       "        text-align: right;\n",
       "    }\n",
       "</style>\n",
       "<table border=\"1\" class=\"dataframe\">\n",
       "  <thead>\n",
       "    <tr style=\"text-align: right;\">\n",
       "      <th></th>\n",
       "      <th>agency_id</th>\n",
       "      <th>agency_name</th>\n",
       "      <th>agency_url</th>\n",
       "      <th>agency_timezone</th>\n",
       "      <th>agency_lang</th>\n",
       "      <th>agency_phone</th>\n",
       "    </tr>\n",
       "  </thead>\n",
       "  <tbody>\n",
       "    <tr>\n",
       "      <th>0</th>\n",
       "      <td>82</td>\n",
       "      <td>MICROOMNIBUS SAAVEDRA S.A.T.A.C.I.</td>\n",
       "      <td>https://www.argentina.gob.ar/cnrt</td>\n",
       "      <td>America/Argentina/Buenos_Aires</td>\n",
       "      <td>ES</td>\n",
       "      <td>NaN</td>\n",
       "    </tr>\n",
       "    <tr>\n",
       "      <th>1</th>\n",
       "      <td>14</td>\n",
       "      <td>TRANSP. AUTOMOTORES 12 DE OCTUBRE S.A.C.</td>\n",
       "      <td>https://www.argentina.gob.ar/cnrt</td>\n",
       "      <td>America/Argentina/Buenos_Aires</td>\n",
       "      <td>ES</td>\n",
       "      <td>NaN</td>\n",
       "    </tr>\n",
       "    <tr>\n",
       "      <th>2</th>\n",
       "      <td>20</td>\n",
       "      <td>EMPRESA TANDILENSE S.A.C.I.F.I.Y DE S.</td>\n",
       "      <td>https://www.argentina.gob.ar/cnrt</td>\n",
       "      <td>America/Argentina/Buenos_Aires</td>\n",
       "      <td>ES</td>\n",
       "      <td>NaN</td>\n",
       "    </tr>\n",
       "  </tbody>\n",
       "</table>\n",
       "</div>"
      ],
      "text/plain": [
       "   agency_id                               agency_name  \\\n",
       "0         82        MICROOMNIBUS SAAVEDRA S.A.T.A.C.I.   \n",
       "1         14  TRANSP. AUTOMOTORES 12 DE OCTUBRE S.A.C.   \n",
       "2         20    EMPRESA TANDILENSE S.A.C.I.F.I.Y DE S.   \n",
       "\n",
       "                          agency_url                 agency_timezone  \\\n",
       "0  https://www.argentina.gob.ar/cnrt  America/Argentina/Buenos_Aires   \n",
       "1  https://www.argentina.gob.ar/cnrt  America/Argentina/Buenos_Aires   \n",
       "2  https://www.argentina.gob.ar/cnrt  America/Argentina/Buenos_Aires   \n",
       "\n",
       "  agency_lang  agency_phone  \n",
       "0          ES           NaN  \n",
       "1          ES           NaN  \n",
       "2          ES           NaN  "
      ]
     },
     "execution_count": 29,
     "metadata": {},
     "output_type": "execute_result"
    }
   ],
   "source": [
    "agency = pd.read_csv(feed_gtfs.open('agency.txt'))\n",
    "agency.head(3)"
   ]
  },
  {
   "cell_type": "markdown",
   "metadata": {},
   "source": [
    "## 2. Calendar Dates"
   ]
  },
  {
   "cell_type": "code",
   "execution_count": 28,
   "metadata": {},
   "outputs": [
    {
     "data": {
      "text/html": [
       "<div>\n",
       "<style scoped>\n",
       "    .dataframe tbody tr th:only-of-type {\n",
       "        vertical-align: middle;\n",
       "    }\n",
       "\n",
       "    .dataframe tbody tr th {\n",
       "        vertical-align: top;\n",
       "    }\n",
       "\n",
       "    .dataframe thead th {\n",
       "        text-align: right;\n",
       "    }\n",
       "</style>\n",
       "<table border=\"1\" class=\"dataframe\">\n",
       "  <thead>\n",
       "    <tr style=\"text-align: right;\">\n",
       "      <th></th>\n",
       "      <th>service_id</th>\n",
       "      <th>date</th>\n",
       "      <th>exception_type</th>\n",
       "    </tr>\n",
       "  </thead>\n",
       "  <tbody>\n",
       "    <tr>\n",
       "      <th>0</th>\n",
       "      <td>8</td>\n",
       "      <td>20231227</td>\n",
       "      <td>1</td>\n",
       "    </tr>\n",
       "    <tr>\n",
       "      <th>1</th>\n",
       "      <td>5</td>\n",
       "      <td>20231228</td>\n",
       "      <td>1</td>\n",
       "    </tr>\n",
       "    <tr>\n",
       "      <th>2</th>\n",
       "      <td>8</td>\n",
       "      <td>20231228</td>\n",
       "      <td>1</td>\n",
       "    </tr>\n",
       "  </tbody>\n",
       "</table>\n",
       "</div>"
      ],
      "text/plain": [
       "  service_id      date  exception_type\n",
       "0          8  20231227               1\n",
       "1          5  20231228               1\n",
       "2          8  20231228               1"
      ]
     },
     "execution_count": 28,
     "metadata": {},
     "output_type": "execute_result"
    }
   ],
   "source": [
    "calendar_dates = pd.read_csv(feed_gtfs.open('calendar_dates.txt'))\n",
    "calendar_dates.head(3)"
   ]
  },
  {
   "cell_type": "markdown",
   "metadata": {},
   "source": [
    "## 3. Routes"
   ]
  },
  {
   "cell_type": "code",
   "execution_count": 30,
   "metadata": {},
   "outputs": [
    {
     "data": {
      "text/html": [
       "<div>\n",
       "<style scoped>\n",
       "    .dataframe tbody tr th:only-of-type {\n",
       "        vertical-align: middle;\n",
       "    }\n",
       "\n",
       "    .dataframe tbody tr th {\n",
       "        vertical-align: top;\n",
       "    }\n",
       "\n",
       "    .dataframe thead th {\n",
       "        text-align: right;\n",
       "    }\n",
       "</style>\n",
       "<table border=\"1\" class=\"dataframe\">\n",
       "  <thead>\n",
       "    <tr style=\"text-align: right;\">\n",
       "      <th></th>\n",
       "      <th>route_id</th>\n",
       "      <th>agency_id</th>\n",
       "      <th>route_short_name</th>\n",
       "      <th>route_long_name</th>\n",
       "      <th>route_desc</th>\n",
       "      <th>route_type</th>\n",
       "    </tr>\n",
       "  </thead>\n",
       "  <tbody>\n",
       "    <tr>\n",
       "      <th>0</th>\n",
       "      <td>1502</td>\n",
       "      <td>110</td>\n",
       "      <td>505R3</td>\n",
       "      <td>JMALBR505</td>\n",
       "      <td>Ramal 3 - San Francisco Solano - Est. Burzaco ...</td>\n",
       "      <td>3</td>\n",
       "    </tr>\n",
       "    <tr>\n",
       "      <th>1</th>\n",
       "      <td>1503</td>\n",
       "      <td>110</td>\n",
       "      <td>505R3</td>\n",
       "      <td>JMALBR505</td>\n",
       "      <td>Ramal 3 - San Francisco Solano - Est. Burzaco ...</td>\n",
       "      <td>3</td>\n",
       "    </tr>\n",
       "    <tr>\n",
       "      <th>2</th>\n",
       "      <td>1504</td>\n",
       "      <td>110</td>\n",
       "      <td>505R4</td>\n",
       "      <td>JMALBR505</td>\n",
       "      <td>Ramal 4 - San Francisco Solano - Est. Adrogue:...</td>\n",
       "      <td>3</td>\n",
       "    </tr>\n",
       "  </tbody>\n",
       "</table>\n",
       "</div>"
      ],
      "text/plain": [
       "   route_id  agency_id route_short_name route_long_name  \\\n",
       "0      1502        110            505R3       JMALBR505   \n",
       "1      1503        110            505R3       JMALBR505   \n",
       "2      1504        110            505R4       JMALBR505   \n",
       "\n",
       "                                          route_desc  route_type  \n",
       "0  Ramal 3 - San Francisco Solano - Est. Burzaco ...           3  \n",
       "1  Ramal 3 - San Francisco Solano - Est. Burzaco ...           3  \n",
       "2  Ramal 4 - San Francisco Solano - Est. Adrogue:...           3  "
      ]
     },
     "execution_count": 30,
     "metadata": {},
     "output_type": "execute_result"
    }
   ],
   "source": [
    "routes = pd.read_csv(feed_gtfs.open('routes.txt'))\n",
    "routes.head(3)"
   ]
  },
  {
   "cell_type": "markdown",
   "metadata": {},
   "source": [
    "## 4. Shapes"
   ]
  },
  {
   "cell_type": "code",
   "execution_count": 31,
   "metadata": {},
   "outputs": [
    {
     "data": {
      "text/html": [
       "<div>\n",
       "<style scoped>\n",
       "    .dataframe tbody tr th:only-of-type {\n",
       "        vertical-align: middle;\n",
       "    }\n",
       "\n",
       "    .dataframe tbody tr th {\n",
       "        vertical-align: top;\n",
       "    }\n",
       "\n",
       "    .dataframe thead th {\n",
       "        text-align: right;\n",
       "    }\n",
       "</style>\n",
       "<table border=\"1\" class=\"dataframe\">\n",
       "  <thead>\n",
       "    <tr style=\"text-align: right;\">\n",
       "      <th></th>\n",
       "      <th>shape_id</th>\n",
       "      <th>shape_pt_lat</th>\n",
       "      <th>shape_pt_lon</th>\n",
       "      <th>shape_pt_sequence</th>\n",
       "      <th>shape_dist_traveled</th>\n",
       "    </tr>\n",
       "  </thead>\n",
       "  <tbody>\n",
       "    <tr>\n",
       "      <th>0</th>\n",
       "      <td>100</td>\n",
       "      <td>-34.608635</td>\n",
       "      <td>-58.368637</td>\n",
       "      <td>314</td>\n",
       "      <td>20385.8</td>\n",
       "    </tr>\n",
       "    <tr>\n",
       "      <th>1</th>\n",
       "      <td>100</td>\n",
       "      <td>-34.608755</td>\n",
       "      <td>-58.368725</td>\n",
       "      <td>315</td>\n",
       "      <td>20401.3</td>\n",
       "    </tr>\n",
       "    <tr>\n",
       "      <th>2</th>\n",
       "      <td>100</td>\n",
       "      <td>-34.608842</td>\n",
       "      <td>-58.368810</td>\n",
       "      <td>316</td>\n",
       "      <td>20413.7</td>\n",
       "    </tr>\n",
       "  </tbody>\n",
       "</table>\n",
       "</div>"
      ],
      "text/plain": [
       "   shape_id  shape_pt_lat  shape_pt_lon  shape_pt_sequence  \\\n",
       "0       100    -34.608635    -58.368637                314   \n",
       "1       100    -34.608755    -58.368725                315   \n",
       "2       100    -34.608842    -58.368810                316   \n",
       "\n",
       "   shape_dist_traveled  \n",
       "0              20385.8  \n",
       "1              20401.3  \n",
       "2              20413.7  "
      ]
     },
     "execution_count": 31,
     "metadata": {},
     "output_type": "execute_result"
    }
   ],
   "source": [
    "shapes = pd.read_csv(feed_gtfs.open('shapes.txt'))\n",
    "shapes.head(3)"
   ]
  },
  {
   "cell_type": "markdown",
   "metadata": {},
   "source": [
    "## 5. Stop Times"
   ]
  },
  {
   "cell_type": "code",
   "execution_count": 32,
   "metadata": {},
   "outputs": [
    {
     "name": "stderr",
     "output_type": "stream",
     "text": [
      "C:\\Users\\Nimble Gravity\\AppData\\Local\\Temp\\ipykernel_30456\\2872887646.py:1: DtypeWarning: Columns (3) have mixed types. Specify dtype option on import or set low_memory=False.\n",
      "  stop_times = pd.read_csv(feed_gtfs.open('stop_times.txt'))\n"
     ]
    },
    {
     "data": {
      "text/html": [
       "<div>\n",
       "<style scoped>\n",
       "    .dataframe tbody tr th:only-of-type {\n",
       "        vertical-align: middle;\n",
       "    }\n",
       "\n",
       "    .dataframe tbody tr th {\n",
       "        vertical-align: top;\n",
       "    }\n",
       "\n",
       "    .dataframe thead th {\n",
       "        text-align: right;\n",
       "    }\n",
       "</style>\n",
       "<table border=\"1\" class=\"dataframe\">\n",
       "  <thead>\n",
       "    <tr style=\"text-align: right;\">\n",
       "      <th></th>\n",
       "      <th>trip_id</th>\n",
       "      <th>arrival_time</th>\n",
       "      <th>departure_time</th>\n",
       "      <th>stop_id</th>\n",
       "      <th>stop_sequence</th>\n",
       "      <th>timepoint</th>\n",
       "      <th>shape_dist_traveled</th>\n",
       "    </tr>\n",
       "  </thead>\n",
       "  <tbody>\n",
       "    <tr>\n",
       "      <th>0</th>\n",
       "      <td>1-1</td>\n",
       "      <td>00:00:00</td>\n",
       "      <td>00:00:00</td>\n",
       "      <td>67602759</td>\n",
       "      <td>1</td>\n",
       "      <td>1</td>\n",
       "      <td>0</td>\n",
       "    </tr>\n",
       "    <tr>\n",
       "      <th>1</th>\n",
       "      <td>1-1</td>\n",
       "      <td>00:00:32</td>\n",
       "      <td>00:00:32</td>\n",
       "      <td>67602394</td>\n",
       "      <td>2</td>\n",
       "      <td>0</td>\n",
       "      <td>152</td>\n",
       "    </tr>\n",
       "    <tr>\n",
       "      <th>2</th>\n",
       "      <td>1-1</td>\n",
       "      <td>00:02:12</td>\n",
       "      <td>00:02:12</td>\n",
       "      <td>67602332</td>\n",
       "      <td>3</td>\n",
       "      <td>0</td>\n",
       "      <td>608</td>\n",
       "    </tr>\n",
       "  </tbody>\n",
       "</table>\n",
       "</div>"
      ],
      "text/plain": [
       "  trip_id arrival_time departure_time   stop_id  stop_sequence  timepoint  \\\n",
       "0     1-1     00:00:00       00:00:00  67602759              1          1   \n",
       "1     1-1     00:00:32       00:00:32  67602394              2          0   \n",
       "2     1-1     00:02:12       00:02:12  67602332              3          0   \n",
       "\n",
       "   shape_dist_traveled  \n",
       "0                    0  \n",
       "1                  152  \n",
       "2                  608  "
      ]
     },
     "execution_count": 32,
     "metadata": {},
     "output_type": "execute_result"
    }
   ],
   "source": [
    "stop_times = pd.read_csv(feed_gtfs.open('stop_times.txt'))\n",
    "stop_times.head(3)"
   ]
  },
  {
   "cell_type": "code",
   "execution_count": 35,
   "metadata": {},
   "outputs": [
    {
     "data": {
      "text/plain": [
       "(27054228, 7)"
      ]
     },
     "execution_count": 35,
     "metadata": {},
     "output_type": "execute_result"
    }
   ],
   "source": [
    "stop_times.shape"
   ]
  },
  {
   "cell_type": "markdown",
   "metadata": {},
   "source": [
    "## 6. Stops"
   ]
  },
  {
   "cell_type": "code",
   "execution_count": 33,
   "metadata": {},
   "outputs": [
    {
     "data": {
      "text/html": [
       "<div>\n",
       "<style scoped>\n",
       "    .dataframe tbody tr th:only-of-type {\n",
       "        vertical-align: middle;\n",
       "    }\n",
       "\n",
       "    .dataframe tbody tr th {\n",
       "        vertical-align: top;\n",
       "    }\n",
       "\n",
       "    .dataframe thead th {\n",
       "        text-align: right;\n",
       "    }\n",
       "</style>\n",
       "<table border=\"1\" class=\"dataframe\">\n",
       "  <thead>\n",
       "    <tr style=\"text-align: right;\">\n",
       "      <th></th>\n",
       "      <th>stop_id</th>\n",
       "      <th>stop_code</th>\n",
       "      <th>stop_name</th>\n",
       "      <th>stop_lat</th>\n",
       "      <th>stop_lon</th>\n",
       "    </tr>\n",
       "  </thead>\n",
       "  <tbody>\n",
       "    <tr>\n",
       "      <th>0</th>\n",
       "      <td>620211018</td>\n",
       "      <td>620211018</td>\n",
       "      <td>Cabecera Pilar II</td>\n",
       "      <td>-41.189470</td>\n",
       "      <td>-71.340458</td>\n",
       "    </tr>\n",
       "    <tr>\n",
       "      <th>1</th>\n",
       "      <td>620211101</td>\n",
       "      <td>620211101</td>\n",
       "      <td>Cabecera Pilar II</td>\n",
       "      <td>-41.189468</td>\n",
       "      <td>-71.340458</td>\n",
       "    </tr>\n",
       "    <tr>\n",
       "      <th>2</th>\n",
       "      <td>620211017</td>\n",
       "      <td>620211017</td>\n",
       "      <td>Acceso Dos Valles</td>\n",
       "      <td>-41.184970</td>\n",
       "      <td>-71.344160</td>\n",
       "    </tr>\n",
       "  </tbody>\n",
       "</table>\n",
       "</div>"
      ],
      "text/plain": [
       "     stop_id  stop_code          stop_name   stop_lat   stop_lon\n",
       "0  620211018  620211018  Cabecera Pilar II -41.189470 -71.340458\n",
       "1  620211101  620211101  Cabecera Pilar II -41.189468 -71.340458\n",
       "2  620211017  620211017  Acceso Dos Valles -41.184970 -71.344160"
      ]
     },
     "execution_count": 33,
     "metadata": {},
     "output_type": "execute_result"
    }
   ],
   "source": [
    "stops = pd.read_csv(feed_gtfs.open('stops.txt'))\n",
    "stops.head(3)"
   ]
  },
  {
   "cell_type": "markdown",
   "metadata": {},
   "source": [
    "## 7. Trips"
   ]
  },
  {
   "cell_type": "code",
   "execution_count": 34,
   "metadata": {},
   "outputs": [
    {
     "name": "stderr",
     "output_type": "stream",
     "text": [
      "C:\\Users\\Nimble Gravity\\AppData\\Local\\Temp\\ipykernel_30456\\3431621410.py:1: DtypeWarning: Columns (1) have mixed types. Specify dtype option on import or set low_memory=False.\n",
      "  trips = pd.read_csv(feed_gtfs.open('trips.txt'))\n"
     ]
    },
    {
     "data": {
      "text/html": [
       "<div>\n",
       "<style scoped>\n",
       "    .dataframe tbody tr th:only-of-type {\n",
       "        vertical-align: middle;\n",
       "    }\n",
       "\n",
       "    .dataframe tbody tr th {\n",
       "        vertical-align: top;\n",
       "    }\n",
       "\n",
       "    .dataframe thead th {\n",
       "        text-align: right;\n",
       "    }\n",
       "</style>\n",
       "<table border=\"1\" class=\"dataframe\">\n",
       "  <thead>\n",
       "    <tr style=\"text-align: right;\">\n",
       "      <th></th>\n",
       "      <th>route_id</th>\n",
       "      <th>service_id</th>\n",
       "      <th>trip_id</th>\n",
       "      <th>trip_headsign</th>\n",
       "      <th>trip_short_name</th>\n",
       "      <th>direction_id</th>\n",
       "      <th>block_id</th>\n",
       "      <th>shape_id</th>\n",
       "      <th>exceptional</th>\n",
       "    </tr>\n",
       "  </thead>\n",
       "  <tbody>\n",
       "    <tr>\n",
       "      <th>0</th>\n",
       "      <td>1258</td>\n",
       "      <td>4</td>\n",
       "      <td>1-1</td>\n",
       "      <td>Ramal 13 - IDA</td>\n",
       "      <td>740G</td>\n",
       "      <td>0</td>\n",
       "      <td>740G</td>\n",
       "      <td>1258</td>\n",
       "      <td>0</td>\n",
       "    </tr>\n",
       "    <tr>\n",
       "      <th>1</th>\n",
       "      <td>1259</td>\n",
       "      <td>4</td>\n",
       "      <td>2-1</td>\n",
       "      <td>Ramal 13 - VUELTA</td>\n",
       "      <td>740G</td>\n",
       "      <td>1</td>\n",
       "      <td>740G</td>\n",
       "      <td>1259</td>\n",
       "      <td>0</td>\n",
       "    </tr>\n",
       "    <tr>\n",
       "      <th>2</th>\n",
       "      <td>1260</td>\n",
       "      <td>4</td>\n",
       "      <td>3-1</td>\n",
       "      <td>Ramal 14 - IDA</td>\n",
       "      <td>740H</td>\n",
       "      <td>0</td>\n",
       "      <td>740H</td>\n",
       "      <td>1260</td>\n",
       "      <td>0</td>\n",
       "    </tr>\n",
       "  </tbody>\n",
       "</table>\n",
       "</div>"
      ],
      "text/plain": [
       "   route_id service_id trip_id      trip_headsign trip_short_name  \\\n",
       "0      1258          4     1-1     Ramal 13 - IDA            740G   \n",
       "1      1259          4     2-1  Ramal 13 - VUELTA            740G   \n",
       "2      1260          4     3-1     Ramal 14 - IDA            740H   \n",
       "\n",
       "   direction_id block_id  shape_id  exceptional  \n",
       "0             0     740G      1258            0  \n",
       "1             1     740G      1259            0  \n",
       "2             0     740H      1260            0  "
      ]
     },
     "execution_count": 34,
     "metadata": {},
     "output_type": "execute_result"
    }
   ],
   "source": [
    "trips = pd.read_csv(feed_gtfs.open('trips.txt'))\n",
    "trips.head(3)"
   ]
  },
  {
   "cell_type": "markdown",
   "metadata": {},
   "source": [
    "# 2. Definición de SChema"
   ]
  },
  {
   "cell_type": "markdown",
   "metadata": {},
   "source": [
    "Crear un diccionario con el siguiente formato\n",
    "{'nombre_del_archivo1.txt': {'columna1':['fila0', 'fila1',...],\n",
    "                             'columna2':['fila0', 'fila1, ... ],\n",
    "                             ...}\n",
    " 'nombre_del_archivo2.txt': {...}\n",
    " ...\n",
    "}"
   ]
  },
  {
   "cell_type": "code",
   "execution_count": 19,
   "metadata": {},
   "outputs": [],
   "source": [
    "\n",
    "import pandas as pd\n",
    "dict_df = dict()\n",
    "for x in feed_gtfs.namelist():\n",
    "    df = pd.read_csv(feed_gtfs.open(x), nrows=10)\n",
    "    dict_df.update({x: df.to_dict(orient='list')})"
   ]
  },
  {
   "cell_type": "markdown",
   "metadata": {},
   "source": [
    "Prompt: Te voy a pasar un diccionario en donde los keys son el nombre de los archivos gtfs, los values son otros diccionarios donde los keys son los nombre de las columnas y las keys son listas con 10 muestras de las rows de cada columna. De esta forma te voy a mostrar que tipos de datos GTFS necesito subir a la base de datos postgres. Quiero el schema de estos datos lo saques de lo que sepas de GTFS y de no saberlo, que lo infieras de la muestra que te pasé y crees scripts de SQL para postgres que sirvan para cargarlos en una base de datos. "
   ]
  },
  {
   "cell_type": "code",
   "execution_count": 22,
   "metadata": {},
   "outputs": [
    {
     "data": {
      "text/plain": [
       "{'agency.txt': {'agency_id': [82, 14, 20, 63, 72, 3, 4, 5, 6, 7],\n",
       "  'agency_name': ['MICROOMNIBUS SAAVEDRA S.A.T.A.C.I.',\n",
       "   'TRANSP. AUTOMOTORES 12 DE OCTUBRE S.A.C.',\n",
       "   'EMPRESA TANDILENSE S.A.C.I.F.I.Y DE S.',\n",
       "   'EL NUEVO HALCON S.A.',\n",
       "   'MICRO OMNIBUS QUILMES S.A.C.I. Y F.',\n",
       "   'D.O.T.A. S.A. DE TRANSPORTE AUTOMOTOR',\n",
       "   'NUDO S.A.',\n",
       "   'TRANSPORTES RIO GRANDE S.A.C.I.F.',\n",
       "   'TRANSPORTES AUTOMOTORES CALLAO S.A.',\n",
       "   'TRANSPORTES AUTOMOTORES RIACHUELO S.A.'],\n",
       "  'agency_url': ['https://www.argentina.gob.ar/cnrt',\n",
       "   'https://www.argentina.gob.ar/cnrt',\n",
       "   'https://www.argentina.gob.ar/cnrt',\n",
       "   'https://www.argentina.gob.ar/cnrt',\n",
       "   'https://www.argentina.gob.ar/cnrt',\n",
       "   'https://www.argentina.gob.ar/cnrt',\n",
       "   'https://www.argentina.gob.ar/cnrt',\n",
       "   'https://www.argentina.gob.ar/cnrt',\n",
       "   'https://www.argentina.gob.ar/cnrt',\n",
       "   'https://www.argentina.gob.ar/cnrt'],\n",
       "  'agency_timezone': ['America/Argentina/Buenos_Aires',\n",
       "   'America/Argentina/Buenos_Aires',\n",
       "   'America/Argentina/Buenos_Aires',\n",
       "   'America/Argentina/Buenos_Aires',\n",
       "   'America/Argentina/Buenos_Aires',\n",
       "   'America/Argentina/Buenos_Aires',\n",
       "   'America/Argentina/Buenos_Aires',\n",
       "   'America/Argentina/Buenos_Aires',\n",
       "   'America/Argentina/Buenos_Aires',\n",
       "   'America/Argentina/Buenos_Aires'],\n",
       "  'agency_lang': ['ES', 'ES', 'ES', 'ES', 'ES', 'ES', 'ES', 'ES', 'ES', 'ES'],\n",
       "  'agency_phone': [nan, nan, nan, nan, nan, nan, nan, nan, nan, nan]},\n",
       " 'calendar_dates.txt': {'service_id': [8, 5, 8, 5, 8, 6, 9, 7, 10, 11],\n",
       "  'date': [20231227,\n",
       "   20231228,\n",
       "   20231228,\n",
       "   20231229,\n",
       "   20231229,\n",
       "   20231230,\n",
       "   20231230,\n",
       "   20231231,\n",
       "   20231231,\n",
       "   20240101],\n",
       "  'exception_type': [1, 1, 1, 1, 1, 1, 1, 1, 1, 1]},\n",
       " 'routes.txt': {'route_id': [1502,\n",
       "   1503,\n",
       "   1504,\n",
       "   1505,\n",
       "   1506,\n",
       "   1507,\n",
       "   1508,\n",
       "   1509,\n",
       "   1511,\n",
       "   1510],\n",
       "  'agency_id': [110, 110, 110, 110, 110, 110, 110, 110, 110, 110],\n",
       "  'route_short_name': ['505R3',\n",
       "   '505R3',\n",
       "   '505R4',\n",
       "   '505R4',\n",
       "   '505R5',\n",
       "   '505R5',\n",
       "   '505R6',\n",
       "   '505R6',\n",
       "   '506R1',\n",
       "   '506R1'],\n",
       "  'route_long_name': ['JMALBR505',\n",
       "   'JMALBR505',\n",
       "   'JMALBR505',\n",
       "   'JMALBR505',\n",
       "   'JMALBR505',\n",
       "   'JMALBR505',\n",
       "   'JMALBR505',\n",
       "   'JMALBR505',\n",
       "   'JMALBR506',\n",
       "   'JMALBR506'],\n",
       "  'route_desc': ['Ramal 3 - San Francisco Solano - Est. Burzaco x Vasco Nuñez de Balboa: Ramal 3 - Est. Burzaco x Vasco Nuñez de Balboa',\n",
       "   'Ramal 3 - San Francisco Solano - Est. Burzaco x Vasco Nuñez de Balboa: Ramal 3 - San Francisco Solano',\n",
       "   'Ramal 4 - San Francisco Solano - Est. Adrogue: Ramal 4 - Est. Adrogue',\n",
       "   'Ramal 4 - San Francisco Solano - Est. Adrogue: Ramal 4 - San Francisco Solano',\n",
       "   'Ramal 5 - San Francisco Solano - Est. Burzacox Leroux: Ramal 5 - Est. Burzacox Leroux',\n",
       "   'Ramal 5 - San Francisco Solano - Est. Burzacox Leroux: Ramal 5 - San Francisco Solano',\n",
       "   'Ramal 6 - San Francisco Solano - Est. Claypole: Ramal 6 - Est. Claypole',\n",
       "   'Ramal 6 - San Francisco Solano - Est. Claypole: Ramal 6 - San Francisco Solano',\n",
       "   'Ramal 1 - Est. Glew - Tapin y Larreta: Ramal 1 - Est. Glew',\n",
       "   'Ramal 1 - Est. Glew - Tapin y Larreta: Ramal 1 - Tapin y Larreta'],\n",
       "  'route_type': [3, 3, 3, 3, 3, 3, 3, 3, 3, 3]},\n",
       " 'shapes.txt': {'shape_id': [100, 100, 100, 100, 100, 100, 100, 100, 100, 100],\n",
       "  'shape_pt_lat': [-34.608635,\n",
       "   -34.608755,\n",
       "   -34.608842,\n",
       "   -34.608945,\n",
       "   -34.60903,\n",
       "   -34.609137,\n",
       "   -34.609235,\n",
       "   -34.609315,\n",
       "   -34.609375,\n",
       "   -34.60943],\n",
       "  'shape_pt_lon': [-58.368637,\n",
       "   -58.368725,\n",
       "   -58.36881,\n",
       "   -58.368912,\n",
       "   -58.369023,\n",
       "   -58.369173,\n",
       "   -58.3693,\n",
       "   -58.369377,\n",
       "   -58.369435,\n",
       "   -58.369465],\n",
       "  'shape_pt_sequence': [314, 315, 316, 317, 318, 319, 320, 321, 322, 323],\n",
       "  'shape_dist_traveled': [20385.8,\n",
       "   20401.3,\n",
       "   20413.7,\n",
       "   20428.5,\n",
       "   20442.4,\n",
       "   20460.5,\n",
       "   20476.4,\n",
       "   20487.7,\n",
       "   20496.3,\n",
       "   20503.0]},\n",
       " 'stops.txt': {'stop_id': [620211018,\n",
       "   620211101,\n",
       "   620211017,\n",
       "   620211102,\n",
       "   620211104,\n",
       "   620211015,\n",
       "   620211105,\n",
       "   620211014,\n",
       "   620211016,\n",
       "   620211103],\n",
       "  'stop_code': [620211018,\n",
       "   620211101,\n",
       "   620211017,\n",
       "   620211102,\n",
       "   620211104,\n",
       "   620211015,\n",
       "   620211105,\n",
       "   620211014,\n",
       "   620211016,\n",
       "   620211103],\n",
       "  'stop_name': ['Cabecera Pilar II',\n",
       "   'Cabecera Pilar II',\n",
       "   'Acceso Dos Valles',\n",
       "   'Acceso Dos Valles',\n",
       "   'A. Acevedo y 15 de Febrero',\n",
       "   'A. Acevedo y 15 de Febrero',\n",
       "   '15 de febrero y Centinela del Bosque',\n",
       "   '15 de febrero y Centinela del Bosque',\n",
       "   'Acceso a Pilar II y Angélica Acevedo',\n",
       "   'Angélica Acevedo y Acceso a Pilar II'],\n",
       "  'stop_lat': [-41.18947,\n",
       "   -41.189468,\n",
       "   -41.18497,\n",
       "   -41.184968,\n",
       "   -41.18282,\n",
       "   -41.18278,\n",
       "   -41.182205,\n",
       "   -41.18203,\n",
       "   -41.18157,\n",
       "   -41.181565],\n",
       "  'stop_lon': [-71.340458,\n",
       "   -71.340458,\n",
       "   -71.34416,\n",
       "   -71.34416,\n",
       "   -71.35035,\n",
       "   -71.35026,\n",
       "   -71.350967,\n",
       "   -71.35104,\n",
       "   -71.347,\n",
       "   -71.347487]},\n",
       " 'stop_times.txt': {'trip_id': ['1-1',\n",
       "   '1-1',\n",
       "   '1-1',\n",
       "   '1-1',\n",
       "   '1-1',\n",
       "   '1-1',\n",
       "   '1-1',\n",
       "   '1-1',\n",
       "   '1-1',\n",
       "   '1-1'],\n",
       "  'arrival_time': ['00:00:00',\n",
       "   '00:00:32',\n",
       "   '00:02:12',\n",
       "   '00:03:34',\n",
       "   '00:04:22',\n",
       "   '00:06:46',\n",
       "   '00:07:24',\n",
       "   '00:07:46',\n",
       "   '00:08:20',\n",
       "   '00:08:52'],\n",
       "  'departure_time': ['00:00:00',\n",
       "   '00:00:32',\n",
       "   '00:02:12',\n",
       "   '00:03:34',\n",
       "   '00:04:22',\n",
       "   '00:06:46',\n",
       "   '00:07:24',\n",
       "   '00:07:46',\n",
       "   '00:08:20',\n",
       "   '00:08:52'],\n",
       "  'stop_id': [67602759,\n",
       "   67602394,\n",
       "   67602332,\n",
       "   67602966,\n",
       "   67601684,\n",
       "   67602901,\n",
       "   67602937,\n",
       "   67602075,\n",
       "   67602679,\n",
       "   67602376],\n",
       "  'stop_sequence': [1, 2, 3, 4, 5, 6, 7, 8, 9, 10],\n",
       "  'timepoint': [1, 0, 0, 0, 0, 0, 0, 0, 0, 0],\n",
       "  'shape_dist_traveled': [0,\n",
       "   152,\n",
       "   608,\n",
       "   988,\n",
       "   1205,\n",
       "   1863,\n",
       "   2035,\n",
       "   2144,\n",
       "   2292,\n",
       "   2442]},\n",
       " 'trips.txt': {'route_id': [1258,\n",
       "   1259,\n",
       "   1260,\n",
       "   1261,\n",
       "   1262,\n",
       "   1263,\n",
       "   1264,\n",
       "   1265,\n",
       "   1266,\n",
       "   1267],\n",
       "  'service_id': [4, 4, 4, 4, 4, 4, 4, 4, 4, 4],\n",
       "  'trip_id': ['1-1',\n",
       "   '2-1',\n",
       "   '3-1',\n",
       "   '4-1',\n",
       "   '5-1',\n",
       "   '6-1',\n",
       "   '7-1',\n",
       "   '8-1',\n",
       "   '9-1',\n",
       "   '10-1'],\n",
       "  'trip_headsign': ['Ramal 13 - IDA',\n",
       "   'Ramal 13 - VUELTA',\n",
       "   'Ramal 14 - IDA',\n",
       "   'Ramal 14 - VUELTA',\n",
       "   'Ramal 17 - IDA',\n",
       "   'Ramal 17 - VUELTA',\n",
       "   'Ramal 21 - IDA',\n",
       "   'Ramal 21 - VUELTA',\n",
       "   'Ramal 49 - IDA',\n",
       "   'Ramal 54 - IDA'],\n",
       "  'trip_short_name': ['740G',\n",
       "   '740G',\n",
       "   '740H',\n",
       "   '740H',\n",
       "   '740I',\n",
       "   '740I',\n",
       "   '740J',\n",
       "   '740J',\n",
       "   '740K',\n",
       "   '740L'],\n",
       "  'direction_id': [0, 1, 0, 1, 0, 1, 0, 1, 0, 0],\n",
       "  'block_id': ['740G',\n",
       "   '740G',\n",
       "   '740H',\n",
       "   '740H',\n",
       "   '740I',\n",
       "   '740I',\n",
       "   '740J',\n",
       "   '740J',\n",
       "   '740K',\n",
       "   '740L'],\n",
       "  'shape_id': [1258, 1259, 1260, 1261, 1262, 1263, 1264, 1265, 1266, 1267],\n",
       "  'exceptional': [0, 0, 0, 0, 0, 0, 0, 0, 0, 0]}}"
      ]
     },
     "execution_count": 22,
     "metadata": {},
     "output_type": "execute_result"
    }
   ],
   "source": [
    "dict_df"
   ]
  }
 ],
 "metadata": {
  "kernelspec": {
   "display_name": "bd",
   "language": "python",
   "name": "python3"
  },
  "language_info": {
   "codemirror_mode": {
    "name": "ipython",
    "version": 3
   },
   "file_extension": ".py",
   "mimetype": "text/x-python",
   "name": "python",
   "nbconvert_exporter": "python",
   "pygments_lexer": "ipython3",
   "version": "3.11.7"
  }
 },
 "nbformat": 4,
 "nbformat_minor": 2
}
